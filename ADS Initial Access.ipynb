{
 "cells": [
  {
   "cell_type": "markdown",
   "metadata": {},
   "source": [
    "# ADS Initial Access\n",
    "**Objective:** Play around with basic access / queries to the [Astrophysics Data System (ADS)](https://ui.adsabs.harvard.edu/) using [the ads Python package](https://ads.readthedocs.io/en/latest/).\n",
    "\n",
    "\n",
    "**Questions:**\n",
    "* Is there a characteristic publication curve describing the number of publications that a typical astronomer authors over time? E.g., Do we observe a maximum in the number of papers published in the year(s) before an astronomer gains tenure? Do we observe their coauthorship increase as they transition to mentorship roles? How do large collaborations influence someone's publications over time?\n",
    "\n",
    "**Acknowledgements:** Special thanks to [Sarah Jane Schmidt](https://sarahjaneschmidt.com/), [Ekta Patel](https://www.ektapatelastro.com/), [Briley Lewis](http://www.briley-lewis.com/about-me.html), [Katie Breivik](https://katiebreivik.github.io/), [Ryan Trainor](http://venus.fandm.edu/~rtrainor/), [Alex Riley](https://ahriley.github.io/), [Jamie Tayar](http://ifa.hawaii.edu/~jtayar/), [Niko Sarcevic](https://de.linkedin.com/in/nikosarcevic), [Abhimat Gautam](https://abhimat.net/), [John Gizis](http://www.physics.udel.edu/~gizis/), [Nicholas Heavens](https://www.spacescience.org/bio.php?emp=NHEAVENS) for volunteering to use their names as examples of this notebook's functionality.\n",
    "\n",
    "**Next Steps**:\n",
    "* Search ADS with ORCHID rather than name\n",
    "* Separate ADS access and plotting funcitonality\n",
    "* Make a `refereed == True` option\n",
    "* Create a way to search publications only after a specific year"
   ]
  },
  {
   "cell_type": "code",
   "execution_count": 3,
   "metadata": {},
   "outputs": [],
   "source": [
    "# Imports\n",
    "%matplotlib inline\n",
    "\n",
    "# Standard\n",
    "import numpy as np\n",
    "from numpy import loadtxt\n",
    "import matplotlib.pyplot as plt\n",
    "\n",
    "# ADS\n",
    "import ads\n",
    "ads.config.token = 'my token'\n",
    "\n",
    "# Geography\n",
    "# from geopy.geocoders import Nominatim\n",
    "# geolocator = Nominatim(user_agent=\"leahmfulmer.com\")\n",
    "# from mpl_toolkits.basemap import Basemap\n",
    "\n",
    "# Animation??"
   ]
  },
  {
   "cell_type": "markdown",
   "metadata": {},
   "source": [
    "## Characteristic Publication Curve?\n",
    "\n",
    "**Key Questions:** If we plot publications as a histogram or cumulative distribution function, is there a \"characteristic publication curve\" for authors? What does it mean to be \"in\" or \"out\" of a particular field? Could one tell if one has \"left\" the field through their publication record?  Could we tell the difference between someone \"leaving\" the field to change careers vs. \"leaving\" for extraneous circumstances (e.g., death)?"
   ]
  },
  {
   "cell_type": "code",
   "execution_count": 8,
   "metadata": {},
   "outputs": [],
   "source": [
    "# Define list of authors to search\n",
    "authors = ['Fulmer, Leah', 'Tayar, Jamie', 'Heavens, Nicholas', 'Gizis, John']\n",
    "\n",
    "# Search only refereed publications\n",
    "# with open('ads_bibcodes.txt') as f:\n",
    "#     journals = f.read().splitlines()"
   ]
  },
  {
   "cell_type": "code",
   "execution_count": 9,
   "metadata": {},
   "outputs": [],
   "source": [
    "# Define functions for querying ADS\n",
    "\n",
    "def firstAuthorSearch(author):\n",
    "    papers = list(ads.SearchQuery(first_author = author, max_pages=100, \\\n",
    "                                        fl = ['aff', 'author', 'bibcode', 'first_author', 'year']))\n",
    "    return papers\n",
    "\n",
    "def orcidPubSearch(author):\n",
    "    papers = list(ads.SearchQuery(orcid_pub = author, max_pages=100, \\\n",
    "                                        fl = ['aff', 'author', 'bibcode', 'first_author', 'year']))\n",
    "    return papers\n",
    "\n",
    "def authorSearch(author):\n",
    "    papers = list(ads.SearchQuery(author = author, max_pages=100, \\\n",
    "                                       fl = ['aff', 'author', 'bibcode', 'first_author', 'year']))\n",
    "    return papers\n",
    "\n",
    "def selectRefereed(papers, journals):\n",
    "    papers = papers[papers.str.contains('|'.join(journals))]\n",
    "    \n",
    "    return papers"
   ]
  },
  {
   "cell_type": "code",
   "execution_count": 11,
   "metadata": {},
   "outputs": [
    {
     "data": {
      "image/png": "[encoded data removed]",
      "text/plain": [
       "<Figure size 1584x360 with 4 Axes>"
      ]
     },
     "metadata": {
      "needs_background": "light"
     },
     "output_type": "display_data"
    }
   ],
   "source": [
    "# Plot\n",
    "\n",
    "a, b = (len(authors) / 4), 4\n",
    "plt.figure(figsize=(5.5*b, 5*a))\n",
    "\n",
    "\n",
    "for i, author in enumerate(authors):\n",
    "    \n",
    "    papers_first = firstAuthorSearch(author)\n",
    "    papers_auth = authorSearch(author)\n",
    "    \n",
    "    years_first = []\n",
    "    years_auth = []\n",
    "    \n",
    "\n",
    "    for paper in papers_first:\n",
    "        years_first.append(int(paper.year))\n",
    "        \n",
    "    for paper in papers_auth:\n",
    "        years_auth.append(int(paper.year))\n",
    "\n",
    "        \n",
    "        \n",
    "    years_first = np.asarray(years_first)\n",
    "    years_auth = np.asarray(years_auth)\n",
    "    \n",
    "    bins_first = np.arange(min(years_first), max(years_first) + 1, 1)\n",
    "    bins_auth = np.arange(min(years_auth), max(years_auth) + 1, 1)\n",
    "    \n",
    "    plt.subplot(a,b,i+1)\n",
    "\n",
    "    plt.hist(years_auth, bins = bins_auth, cumulative = False, color = 'firebrick', density=False, \\\n",
    "             edgecolor = 'k', alpha = 0.4, label = f'coauthor ({len(papers_auth)})')\n",
    "    plt.hist(years_first, bins = bins_first, cumulative = False, color = 'indianred', density=False, \\\n",
    "             edgecolor = 'k', label = f'first author ({len(papers_first)})')\n",
    "    \n",
    "    plt.xlabel('Year')\n",
    "    plt.ylabel('Number of Publications')\n",
    "    plt.title(author)\n",
    "    plt.legend(loc = 'upper left')\n",
    "\n",
    "plt.show()"
   ]
  },
  {
   "cell_type": "markdown",
   "metadata": {},
   "source": [
    "## Geographic Information\n",
    "\n",
    "**Key Questions:** Can we observe where a particular person has worked based on their publication history?"
   ]
  },
  {
   "cell_type": "code",
   "execution_count": 12,
   "metadata": {},
   "outputs": [],
   "source": [
    "selected_first = list(ads.SearchQuery(first_author = 'Fulmer, Leah', \\\n",
    "                                    max_pages=100, fl = ['aff', 'author', 'bibcode', 'first_author', 'year']))"
   ]
  },
  {
   "cell_type": "code",
   "execution_count": 21,
   "metadata": {},
   "outputs": [
    {
     "name": "stdout",
     "output_type": "stream",
     "text": [
      "In 2017, Leah Fulmer was affiliated with Department of Astronomy, University of Wisconsin, Madison, WI, 53706, USA, located at (44.8519784, -92.6167556)\n",
      "\n",
      "In 2018, Leah Fulmer was affiliated with National Optical Astronomy Observatory, located at (32.2331721, -110.9478175)\n",
      "\n",
      "In 2017, Leah Fulmer was affiliated with University of Wisconsin - Madison, located at (43.07982815, -89.43066425429006)\n",
      "\n",
      "In 2016, Leah Fulmer was affiliated with University of Wisconsin - Madison, located at (43.07982815, -89.43066425429006)\n",
      "\n",
      "In 2015, Leah Fulmer was affiliated with University of Wisconsin - Madison, located at (43.07982815, -89.43066425429006)\n",
      "\n",
      "In 2020, Leah Fulmer was affiliated with University of Washington, Physics-Astronomy Bldg. 3910 15th Ave NE Seattle, Seattle, WA, 98195, USA, located at (47.6543238, -122.30800894320257)\n",
      "\n"
     ]
    }
   ],
   "source": [
    "latitudes = []\n",
    "longitudes = []\n",
    "years = []\n",
    "\n",
    "for i in range(len(selected_first)):\n",
    "    aff = selected_first[i].aff\n",
    "    \n",
    "    if (aff is None):\n",
    "        pass\n",
    "        \n",
    "    elif (aff[0] is '-'):\n",
    "        pass\n",
    "        \n",
    "    else:\n",
    "        location = aff[0].split(\",\")\n",
    "        \n",
    "        matchers = ['University', 'Observatory', 'Institute']\n",
    "        matching = [s for s in location if any(xs in s for xs in matchers)]\n",
    "        \n",
    "        geo = geolocator.geocode(matching[-1])\n",
    "        \n",
    "        if geo is None:\n",
    "            pass\n",
    "        else:\n",
    "            latitudes.append(geo.latitude)\n",
    "            longitudes.append(geo.longitude)\n",
    "            years.append(int(selected_first[i].year))\n",
    "\n",
    "        print(f'In {years[-1]}, Leah Fulmer was affiliated with {aff[0]}, \\\n",
    "located at ({latitudes[-1]}, {longitudes[-1]})\\n')"
   ]
  },
  {
   "cell_type": "code",
   "execution_count": null,
   "metadata": {},
   "outputs": [],
   "source": []
  },
  {
   "cell_type": "markdown",
   "metadata": {},
   "source": [
    "## Resting place"
   ]
  },
  {
   "cell_type": "code",
   "execution_count": null,
   "metadata": {},
   "outputs": [],
   "source": [
    "# # Setup and test geolocators\n",
    "# from geopy.geocoders import Nominatim\n",
    "# geolocator = Nominatim(user_agent=\"https://leahmfulmer.com/\")\n",
    "\n",
    "# location = geolocator.geocode(\"University of Washington\")\n",
    "# print((location.latitude, location.longitude))"
   ]
  }
 ],
 "metadata": {
  "kernelspec": {
   "display_name": "Earthseed (Python 3)",
   "language": "python",
   "name": "earthseed"
  },
  "language_info": {
   "codemirror_mode": {
    "name": "ipython",
    "version": 3
   },
   "file_extension": ".py",
   "mimetype": "text/x-python",
   "name": "python",
   "nbconvert_exporter": "python",
   "pygments_lexer": "ipython3",
   "version": "3.7.6"
  }
 },
 "nbformat": 4,
 "nbformat_minor": 2
}
